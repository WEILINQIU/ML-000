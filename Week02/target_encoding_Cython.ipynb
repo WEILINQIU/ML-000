{
  "nbformat": 4,
  "nbformat_minor": 0,
  "metadata": {
    "colab": {
      "name": "target_encoding_Cython.ipynb",
      "provenance": [],
      "collapsed_sections": []
    },
    "kernelspec": {
      "name": "python3",
      "display_name": "Python 3"
    }
  },
  "cells": [
    {
      "cell_type": "code",
      "metadata": {
        "id": "kTElv1ickt4H"
      },
      "source": [
        "%load_ext Cython"
      ],
      "execution_count": 2,
      "outputs": []
    },
    {
      "cell_type": "code",
      "metadata": {
        "id": "rhxyrmG8zckl"
      },
      "source": [
        "import pandas as pd"
      ],
      "execution_count": 85,
      "outputs": []
    },
    {
      "cell_type": "code",
      "metadata": {
        "id": "htAuqO7mzwbO"
      },
      "source": [
        "num = 500\r\n",
        "y = np.random.randint(2, size=(num, 1))\r\n",
        "x = np.random.randint(10, size=(num, 1))\r\n",
        "data = pd.DataFrame(np.concatenate([y, x], axis=1), columns=['y', 'x'])"
      ],
      "execution_count": 93,
      "outputs": []
    },
    {
      "cell_type": "markdown",
      "metadata": {
        "id": "f_DUZ18nzo9N"
      },
      "source": [
        "王然老师初步优化代码"
      ]
    },
    {
      "cell_type": "code",
      "metadata": {
        "id": "BwoxPrF7zmNH"
      },
      "source": [
        "def target_mean_v2(data, y_name, x_name):\r\n",
        "    result = np.zeros(data.shape[0]) \r\n",
        "    value_dict = dict()\r\n",
        "    count_dict = dict()\r\n",
        "    for i in range(data.shape[0]):\r\n",
        "        if data.loc[i, x_name] not in value_dict.keys():\r\n",
        "            value_dict[data.loc[i, x_name]] = data.loc[i, y_name]\r\n",
        "            count_dict[data.loc[i, x_name]] = 1\r\n",
        "        else:\r\n",
        "            value_dict[data.loc[i, x_name]] += data.loc[i, y_name]\r\n",
        "            count_dict[data.loc[i, x_name]] += 1\r\n",
        "    for i in range(data.shape[0]):\r\n",
        "        result[i] = (value_dict[data.loc[i, x_name]] - data.loc[i, y_name]) / (count_dict[data.loc[i, x_name]] - 1)\r\n",
        "    return result"
      ],
      "execution_count": 94,
      "outputs": []
    },
    {
      "cell_type": "code",
      "metadata": {
        "colab": {
          "base_uri": "https://localhost:8080/"
        },
        "id": "7q6B_zh2z6eM",
        "outputId": "f6b8190b-2564-4de3-cea6-f218fd0e8ec2"
      },
      "source": [
        "%%timeit\r\n",
        "target_mean_v2(data,'y','x')"
      ],
      "execution_count": 95,
      "outputs": [
        {
          "output_type": "stream",
          "text": [
            "10 loops, best of 3: 27.3 ms per loop\n"
          ],
          "name": "stdout"
        }
      ]
    },
    {
      "cell_type": "markdown",
      "metadata": {
        "id": "pfHUW1XQzf_3"
      },
      "source": [
        "Cython版"
      ]
    },
    {
      "cell_type": "code",
      "metadata": {
        "id": "AeCWXHY2n_uN"
      },
      "source": [
        "%%cython -a\r\n",
        "import numpy as np\r\n",
        "cimport numpy as cnp\r\n",
        "\r\n",
        "cpdef cnp.ndarray target_mean_v3(cnp.ndarray data_x, cnp.ndarray data_y):\r\n",
        "    cdef int row_num = data_x.shape[0]\r\n",
        "    cdef cnp.ndarray result = np.zeros(row_num)\r\n",
        "    cdef cnp.ndarray data_value = np.zeros(10)\r\n",
        "    cdef cnp.ndarray data_count = np.zeros(10)\r\n",
        "    cdef int i = 0 \r\n",
        "    for i in range(row_num):\r\n",
        "        data_value[data_x[i]] += data_y[i]\r\n",
        "        data_count[data_x[i]] += 1\r\n",
        "    for i in range(row_num):\r\n",
        "        result[i] = (data_value[data_x[i]] - data_y[i]) / (data_count[data_x[i]] - 1)\r\n",
        "    return result"
      ],
      "execution_count": null,
      "outputs": []
    },
    {
      "cell_type": "code",
      "metadata": {
        "colab": {
          "base_uri": "https://localhost:8080/"
        },
        "id": "qqG4w0_M0FUO",
        "outputId": "7cb6c0e7-e571-45f8-e8b2-c9af619245ba"
      },
      "source": [
        "%%timeit\r\n",
        "target_mean_v3(data['x'].values,data['y'].values)"
      ],
      "execution_count": 96,
      "outputs": [
        {
          "output_type": "stream",
          "text": [
            "1000 loops, best of 3: 1.11 ms per loop\n"
          ],
          "name": "stdout"
        }
      ]
    },
    {
      "cell_type": "code",
      "metadata": {
        "colab": {
          "base_uri": "https://localhost:8080/"
        },
        "id": "-WeslnzS1Txt",
        "outputId": "465ce317-92b8-49b8-97b9-184bb21ec1c0"
      },
      "source": [
        "result_3 = target_mean_v3(data['x'].values,data['y'].values)\r\n",
        "result_2 = target_mean_v2(data,'y','x')\r\n",
        "np.linalg.norm(result_2-result_3)"
      ],
      "execution_count": 97,
      "outputs": [
        {
          "output_type": "execute_result",
          "data": {
            "text/plain": [
              "0.0"
            ]
          },
          "metadata": {
            "tags": []
          },
          "execution_count": 97
        }
      ]
    }
  ]
}